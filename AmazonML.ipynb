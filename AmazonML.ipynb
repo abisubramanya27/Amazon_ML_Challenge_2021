{
  "nbformat": 4,
  "nbformat_minor": 0,
  "metadata": {
    "colab": {
      "name": "Copy of AmazonML.ipynb",
      "provenance": [],
      "collapsed_sections": []
    },
    "kernelspec": {
      "name": "python3",
      "display_name": "Python 3"
    },
    "language_info": {
      "name": "python"
    },
    "accelerator": "GPU",
    "widgets": {
      "application/vnd.jupyter.widget-state+json": {
        "d4a6f77984034263a009a0901c7cdb62": {
          "model_module": "@jupyter-widgets/controls",
          "model_name": "HBoxModel",
          "state": {
            "_view_name": "HBoxView",
            "_dom_classes": [],
            "_model_name": "HBoxModel",
            "_view_module": "@jupyter-widgets/controls",
            "_model_module_version": "1.5.0",
            "_view_count": null,
            "_view_module_version": "1.5.0",
            "box_style": "",
            "layout": "IPY_MODEL_0b4efcea4d64466a9f1200e1f369a8f4",
            "_model_module": "@jupyter-widgets/controls",
            "children": [
              "IPY_MODEL_0326b0f09d874c2cbfdf693a6798d1e0",
              "IPY_MODEL_875fd2263aae4579aa7c59839c3276f1"
            ]
          }
        },
        "0b4efcea4d64466a9f1200e1f369a8f4": {
          "model_module": "@jupyter-widgets/base",
          "model_name": "LayoutModel",
          "state": {
            "_view_name": "LayoutView",
            "grid_template_rows": null,
            "right": null,
            "justify_content": null,
            "_view_module": "@jupyter-widgets/base",
            "overflow": null,
            "_model_module_version": "1.2.0",
            "_view_count": null,
            "flex_flow": null,
            "width": null,
            "min_width": null,
            "border": null,
            "align_items": null,
            "bottom": null,
            "_model_module": "@jupyter-widgets/base",
            "top": null,
            "grid_column": null,
            "overflow_y": null,
            "overflow_x": null,
            "grid_auto_flow": null,
            "grid_area": null,
            "grid_template_columns": null,
            "flex": null,
            "_model_name": "LayoutModel",
            "justify_items": null,
            "grid_row": null,
            "max_height": null,
            "align_content": null,
            "visibility": null,
            "align_self": null,
            "height": null,
            "min_height": null,
            "padding": null,
            "grid_auto_rows": null,
            "grid_gap": null,
            "max_width": null,
            "order": null,
            "_view_module_version": "1.2.0",
            "grid_template_areas": null,
            "object_position": null,
            "object_fit": null,
            "grid_auto_columns": null,
            "margin": null,
            "display": null,
            "left": null
          }
        },
        "0326b0f09d874c2cbfdf693a6798d1e0": {
          "model_module": "@jupyter-widgets/controls",
          "model_name": "FloatProgressModel",
          "state": {
            "_view_name": "ProgressView",
            "style": "IPY_MODEL_d81cd04b2e9a4b6f8944120c84e7abf0",
            "_dom_classes": [],
            "description": "Downloading: 100%",
            "_model_name": "FloatProgressModel",
            "bar_style": "success",
            "max": 231508,
            "_view_module": "@jupyter-widgets/controls",
            "_model_module_version": "1.5.0",
            "value": 231508,
            "_view_count": null,
            "_view_module_version": "1.5.0",
            "orientation": "horizontal",
            "min": 0,
            "description_tooltip": null,
            "_model_module": "@jupyter-widgets/controls",
            "layout": "IPY_MODEL_00dd5a86de014295a31a1b32400839e7"
          }
        },
        "875fd2263aae4579aa7c59839c3276f1": {
          "model_module": "@jupyter-widgets/controls",
          "model_name": "HTMLModel",
          "state": {
            "_view_name": "HTMLView",
            "style": "IPY_MODEL_555201f7c857455fb96f0b6a3f1a2f12",
            "_dom_classes": [],
            "description": "",
            "_model_name": "HTMLModel",
            "placeholder": "​",
            "_view_module": "@jupyter-widgets/controls",
            "_model_module_version": "1.5.0",
            "value": " 232k/232k [00:02&lt;00:00, 112kB/s]",
            "_view_count": null,
            "_view_module_version": "1.5.0",
            "description_tooltip": null,
            "_model_module": "@jupyter-widgets/controls",
            "layout": "IPY_MODEL_a93dd55d907e424e8f501b666f8ab1bc"
          }
        },
        "d81cd04b2e9a4b6f8944120c84e7abf0": {
          "model_module": "@jupyter-widgets/controls",
          "model_name": "ProgressStyleModel",
          "state": {
            "_view_name": "StyleView",
            "_model_name": "ProgressStyleModel",
            "description_width": "initial",
            "_view_module": "@jupyter-widgets/base",
            "_model_module_version": "1.5.0",
            "_view_count": null,
            "_view_module_version": "1.2.0",
            "bar_color": null,
            "_model_module": "@jupyter-widgets/controls"
          }
        },
        "00dd5a86de014295a31a1b32400839e7": {
          "model_module": "@jupyter-widgets/base",
          "model_name": "LayoutModel",
          "state": {
            "_view_name": "LayoutView",
            "grid_template_rows": null,
            "right": null,
            "justify_content": null,
            "_view_module": "@jupyter-widgets/base",
            "overflow": null,
            "_model_module_version": "1.2.0",
            "_view_count": null,
            "flex_flow": null,
            "width": null,
            "min_width": null,
            "border": null,
            "align_items": null,
            "bottom": null,
            "_model_module": "@jupyter-widgets/base",
            "top": null,
            "grid_column": null,
            "overflow_y": null,
            "overflow_x": null,
            "grid_auto_flow": null,
            "grid_area": null,
            "grid_template_columns": null,
            "flex": null,
            "_model_name": "LayoutModel",
            "justify_items": null,
            "grid_row": null,
            "max_height": null,
            "align_content": null,
            "visibility": null,
            "align_self": null,
            "height": null,
            "min_height": null,
            "padding": null,
            "grid_auto_rows": null,
            "grid_gap": null,
            "max_width": null,
            "order": null,
            "_view_module_version": "1.2.0",
            "grid_template_areas": null,
            "object_position": null,
            "object_fit": null,
            "grid_auto_columns": null,
            "margin": null,
            "display": null,
            "left": null
          }
        },
        "555201f7c857455fb96f0b6a3f1a2f12": {
          "model_module": "@jupyter-widgets/controls",
          "model_name": "DescriptionStyleModel",
          "state": {
            "_view_name": "StyleView",
            "_model_name": "DescriptionStyleModel",
            "description_width": "",
            "_view_module": "@jupyter-widgets/base",
            "_model_module_version": "1.5.0",
            "_view_count": null,
            "_view_module_version": "1.2.0",
            "_model_module": "@jupyter-widgets/controls"
          }
        },
        "a93dd55d907e424e8f501b666f8ab1bc": {
          "model_module": "@jupyter-widgets/base",
          "model_name": "LayoutModel",
          "state": {
            "_view_name": "LayoutView",
            "grid_template_rows": null,
            "right": null,
            "justify_content": null,
            "_view_module": "@jupyter-widgets/base",
            "overflow": null,
            "_model_module_version": "1.2.0",
            "_view_count": null,
            "flex_flow": null,
            "width": null,
            "min_width": null,
            "border": null,
            "align_items": null,
            "bottom": null,
            "_model_module": "@jupyter-widgets/base",
            "top": null,
            "grid_column": null,
            "overflow_y": null,
            "overflow_x": null,
            "grid_auto_flow": null,
            "grid_area": null,
            "grid_template_columns": null,
            "flex": null,
            "_model_name": "LayoutModel",
            "justify_items": null,
            "grid_row": null,
            "max_height": null,
            "align_content": null,
            "visibility": null,
            "align_self": null,
            "height": null,
            "min_height": null,
            "padding": null,
            "grid_auto_rows": null,
            "grid_gap": null,
            "max_width": null,
            "order": null,
            "_view_module_version": "1.2.0",
            "grid_template_areas": null,
            "object_position": null,
            "object_fit": null,
            "grid_auto_columns": null,
            "margin": null,
            "display": null,
            "left": null
          }
        },
        "685175f6a24b4998b14f5630c97f2357": {
          "model_module": "@jupyter-widgets/controls",
          "model_name": "HBoxModel",
          "state": {
            "_view_name": "HBoxView",
            "_dom_classes": [],
            "_model_name": "HBoxModel",
            "_view_module": "@jupyter-widgets/controls",
            "_model_module_version": "1.5.0",
            "_view_count": null,
            "_view_module_version": "1.5.0",
            "box_style": "",
            "layout": "IPY_MODEL_96608212e7ca44d6afd0cb5a4db3c27f",
            "_model_module": "@jupyter-widgets/controls",
            "children": [
              "IPY_MODEL_bc243bac0f8f430693dd5886dc2f7103",
              "IPY_MODEL_0774d3d5623e41479d0af00caf23885b"
            ]
          }
        },
        "96608212e7ca44d6afd0cb5a4db3c27f": {
          "model_module": "@jupyter-widgets/base",
          "model_name": "LayoutModel",
          "state": {
            "_view_name": "LayoutView",
            "grid_template_rows": null,
            "right": null,
            "justify_content": null,
            "_view_module": "@jupyter-widgets/base",
            "overflow": null,
            "_model_module_version": "1.2.0",
            "_view_count": null,
            "flex_flow": null,
            "width": null,
            "min_width": null,
            "border": null,
            "align_items": null,
            "bottom": null,
            "_model_module": "@jupyter-widgets/base",
            "top": null,
            "grid_column": null,
            "overflow_y": null,
            "overflow_x": null,
            "grid_auto_flow": null,
            "grid_area": null,
            "grid_template_columns": null,
            "flex": null,
            "_model_name": "LayoutModel",
            "justify_items": null,
            "grid_row": null,
            "max_height": null,
            "align_content": null,
            "visibility": null,
            "align_self": null,
            "height": null,
            "min_height": null,
            "padding": null,
            "grid_auto_rows": null,
            "grid_gap": null,
            "max_width": null,
            "order": null,
            "_view_module_version": "1.2.0",
            "grid_template_areas": null,
            "object_position": null,
            "object_fit": null,
            "grid_auto_columns": null,
            "margin": null,
            "display": null,
            "left": null
          }
        },
        "bc243bac0f8f430693dd5886dc2f7103": {
          "model_module": "@jupyter-widgets/controls",
          "model_name": "FloatProgressModel",
          "state": {
            "_view_name": "ProgressView",
            "style": "IPY_MODEL_f6fcc30bf9c342a4be3d88ce5428c3be",
            "_dom_classes": [],
            "description": "Downloading: 100%",
            "_model_name": "FloatProgressModel",
            "bar_style": "success",
            "max": 28,
            "_view_module": "@jupyter-widgets/controls",
            "_model_module_version": "1.5.0",
            "value": 28,
            "_view_count": null,
            "_view_module_version": "1.5.0",
            "orientation": "horizontal",
            "min": 0,
            "description_tooltip": null,
            "_model_module": "@jupyter-widgets/controls",
            "layout": "IPY_MODEL_ee1edd09e1444596b58c1cccdc1c2995"
          }
        },
        "0774d3d5623e41479d0af00caf23885b": {
          "model_module": "@jupyter-widgets/controls",
          "model_name": "HTMLModel",
          "state": {
            "_view_name": "HTMLView",
            "style": "IPY_MODEL_a39d0d0234ad48d3822f06bc13f893da",
            "_dom_classes": [],
            "description": "",
            "_model_name": "HTMLModel",
            "placeholder": "​",
            "_view_module": "@jupyter-widgets/controls",
            "_model_module_version": "1.5.0",
            "value": " 28.0/28.0 [00:00&lt;00:00, 50.9B/s]",
            "_view_count": null,
            "_view_module_version": "1.5.0",
            "description_tooltip": null,
            "_model_module": "@jupyter-widgets/controls",
            "layout": "IPY_MODEL_196fbc06c8e34d26bc0d8b6cfda15881"
          }
        },
        "f6fcc30bf9c342a4be3d88ce5428c3be": {
          "model_module": "@jupyter-widgets/controls",
          "model_name": "ProgressStyleModel",
          "state": {
            "_view_name": "StyleView",
            "_model_name": "ProgressStyleModel",
            "description_width": "initial",
            "_view_module": "@jupyter-widgets/base",
            "_model_module_version": "1.5.0",
            "_view_count": null,
            "_view_module_version": "1.2.0",
            "bar_color": null,
            "_model_module": "@jupyter-widgets/controls"
          }
        },
        "ee1edd09e1444596b58c1cccdc1c2995": {
          "model_module": "@jupyter-widgets/base",
          "model_name": "LayoutModel",
          "state": {
            "_view_name": "LayoutView",
            "grid_template_rows": null,
            "right": null,
            "justify_content": null,
            "_view_module": "@jupyter-widgets/base",
            "overflow": null,
            "_model_module_version": "1.2.0",
            "_view_count": null,
            "flex_flow": null,
            "width": null,
            "min_width": null,
            "border": null,
            "align_items": null,
            "bottom": null,
            "_model_module": "@jupyter-widgets/base",
            "top": null,
            "grid_column": null,
            "overflow_y": null,
            "overflow_x": null,
            "grid_auto_flow": null,
            "grid_area": null,
            "grid_template_columns": null,
            "flex": null,
            "_model_name": "LayoutModel",
            "justify_items": null,
            "grid_row": null,
            "max_height": null,
            "align_content": null,
            "visibility": null,
            "align_self": null,
            "height": null,
            "min_height": null,
            "padding": null,
            "grid_auto_rows": null,
            "grid_gap": null,
            "max_width": null,
            "order": null,
            "_view_module_version": "1.2.0",
            "grid_template_areas": null,
            "object_position": null,
            "object_fit": null,
            "grid_auto_columns": null,
            "margin": null,
            "display": null,
            "left": null
          }
        },
        "a39d0d0234ad48d3822f06bc13f893da": {
          "model_module": "@jupyter-widgets/controls",
          "model_name": "DescriptionStyleModel",
          "state": {
            "_view_name": "StyleView",
            "_model_name": "DescriptionStyleModel",
            "description_width": "",
            "_view_module": "@jupyter-widgets/base",
            "_model_module_version": "1.5.0",
            "_view_count": null,
            "_view_module_version": "1.2.0",
            "_model_module": "@jupyter-widgets/controls"
          }
        },
        "196fbc06c8e34d26bc0d8b6cfda15881": {
          "model_module": "@jupyter-widgets/base",
          "model_name": "LayoutModel",
          "state": {
            "_view_name": "LayoutView",
            "grid_template_rows": null,
            "right": null,
            "justify_content": null,
            "_view_module": "@jupyter-widgets/base",
            "overflow": null,
            "_model_module_version": "1.2.0",
            "_view_count": null,
            "flex_flow": null,
            "width": null,
            "min_width": null,
            "border": null,
            "align_items": null,
            "bottom": null,
            "_model_module": "@jupyter-widgets/base",
            "top": null,
            "grid_column": null,
            "overflow_y": null,
            "overflow_x": null,
            "grid_auto_flow": null,
            "grid_area": null,
            "grid_template_columns": null,
            "flex": null,
            "_model_name": "LayoutModel",
            "justify_items": null,
            "grid_row": null,
            "max_height": null,
            "align_content": null,
            "visibility": null,
            "align_self": null,
            "height": null,
            "min_height": null,
            "padding": null,
            "grid_auto_rows": null,
            "grid_gap": null,
            "max_width": null,
            "order": null,
            "_view_module_version": "1.2.0",
            "grid_template_areas": null,
            "object_position": null,
            "object_fit": null,
            "grid_auto_columns": null,
            "margin": null,
            "display": null,
            "left": null
          }
        },
        "2735e90a119741d5b377687fb72109fb": {
          "model_module": "@jupyter-widgets/controls",
          "model_name": "HBoxModel",
          "state": {
            "_view_name": "HBoxView",
            "_dom_classes": [],
            "_model_name": "HBoxModel",
            "_view_module": "@jupyter-widgets/controls",
            "_model_module_version": "1.5.0",
            "_view_count": null,
            "_view_module_version": "1.5.0",
            "box_style": "",
            "layout": "IPY_MODEL_2bb38ba4a26c4c94a7c09a3cd89be9e3",
            "_model_module": "@jupyter-widgets/controls",
            "children": [
              "IPY_MODEL_877f7ee6d40045f58044e58e0a116f97",
              "IPY_MODEL_d147d8d69d014f57b43e80d3e2671838"
            ]
          }
        },
        "2bb38ba4a26c4c94a7c09a3cd89be9e3": {
          "model_module": "@jupyter-widgets/base",
          "model_name": "LayoutModel",
          "state": {
            "_view_name": "LayoutView",
            "grid_template_rows": null,
            "right": null,
            "justify_content": null,
            "_view_module": "@jupyter-widgets/base",
            "overflow": null,
            "_model_module_version": "1.2.0",
            "_view_count": null,
            "flex_flow": null,
            "width": null,
            "min_width": null,
            "border": null,
            "align_items": null,
            "bottom": null,
            "_model_module": "@jupyter-widgets/base",
            "top": null,
            "grid_column": null,
            "overflow_y": null,
            "overflow_x": null,
            "grid_auto_flow": null,
            "grid_area": null,
            "grid_template_columns": null,
            "flex": null,
            "_model_name": "LayoutModel",
            "justify_items": null,
            "grid_row": null,
            "max_height": null,
            "align_content": null,
            "visibility": null,
            "align_self": null,
            "height": null,
            "min_height": null,
            "padding": null,
            "grid_auto_rows": null,
            "grid_gap": null,
            "max_width": null,
            "order": null,
            "_view_module_version": "1.2.0",
            "grid_template_areas": null,
            "object_position": null,
            "object_fit": null,
            "grid_auto_columns": null,
            "margin": null,
            "display": null,
            "left": null
          }
        },
        "877f7ee6d40045f58044e58e0a116f97": {
          "model_module": "@jupyter-widgets/controls",
          "model_name": "FloatProgressModel",
          "state": {
            "_view_name": "ProgressView",
            "style": "IPY_MODEL_857497f69d174b8dba442733a0a1cd8b",
            "_dom_classes": [],
            "description": "Downloading: 100%",
            "_model_name": "FloatProgressModel",
            "bar_style": "success",
            "max": 466062,
            "_view_module": "@jupyter-widgets/controls",
            "_model_module_version": "1.5.0",
            "value": 466062,
            "_view_count": null,
            "_view_module_version": "1.5.0",
            "orientation": "horizontal",
            "min": 0,
            "description_tooltip": null,
            "_model_module": "@jupyter-widgets/controls",
            "layout": "IPY_MODEL_f3e594a5285b44998122f31e89036dc8"
          }
        },
        "d147d8d69d014f57b43e80d3e2671838": {
          "model_module": "@jupyter-widgets/controls",
          "model_name": "HTMLModel",
          "state": {
            "_view_name": "HTMLView",
            "style": "IPY_MODEL_1fa80deca76e4241ae5cf450a1c08850",
            "_dom_classes": [],
            "description": "",
            "_model_name": "HTMLModel",
            "placeholder": "​",
            "_view_module": "@jupyter-widgets/controls",
            "_model_module_version": "1.5.0",
            "value": " 466k/466k [00:00&lt;00:00, 2.48MB/s]",
            "_view_count": null,
            "_view_module_version": "1.5.0",
            "description_tooltip": null,
            "_model_module": "@jupyter-widgets/controls",
            "layout": "IPY_MODEL_9acda257f95146d0a5656d57b595c440"
          }
        },
        "857497f69d174b8dba442733a0a1cd8b": {
          "model_module": "@jupyter-widgets/controls",
          "model_name": "ProgressStyleModel",
          "state": {
            "_view_name": "StyleView",
            "_model_name": "ProgressStyleModel",
            "description_width": "initial",
            "_view_module": "@jupyter-widgets/base",
            "_model_module_version": "1.5.0",
            "_view_count": null,
            "_view_module_version": "1.2.0",
            "bar_color": null,
            "_model_module": "@jupyter-widgets/controls"
          }
        },
        "f3e594a5285b44998122f31e89036dc8": {
          "model_module": "@jupyter-widgets/base",
          "model_name": "LayoutModel",
          "state": {
            "_view_name": "LayoutView",
            "grid_template_rows": null,
            "right": null,
            "justify_content": null,
            "_view_module": "@jupyter-widgets/base",
            "overflow": null,
            "_model_module_version": "1.2.0",
            "_view_count": null,
            "flex_flow": null,
            "width": null,
            "min_width": null,
            "border": null,
            "align_items": null,
            "bottom": null,
            "_model_module": "@jupyter-widgets/base",
            "top": null,
            "grid_column": null,
            "overflow_y": null,
            "overflow_x": null,
            "grid_auto_flow": null,
            "grid_area": null,
            "grid_template_columns": null,
            "flex": null,
            "_model_name": "LayoutModel",
            "justify_items": null,
            "grid_row": null,
            "max_height": null,
            "align_content": null,
            "visibility": null,
            "align_self": null,
            "height": null,
            "min_height": null,
            "padding": null,
            "grid_auto_rows": null,
            "grid_gap": null,
            "max_width": null,
            "order": null,
            "_view_module_version": "1.2.0",
            "grid_template_areas": null,
            "object_position": null,
            "object_fit": null,
            "grid_auto_columns": null,
            "margin": null,
            "display": null,
            "left": null
          }
        },
        "1fa80deca76e4241ae5cf450a1c08850": {
          "model_module": "@jupyter-widgets/controls",
          "model_name": "DescriptionStyleModel",
          "state": {
            "_view_name": "StyleView",
            "_model_name": "DescriptionStyleModel",
            "description_width": "",
            "_view_module": "@jupyter-widgets/base",
            "_model_module_version": "1.5.0",
            "_view_count": null,
            "_view_module_version": "1.2.0",
            "_model_module": "@jupyter-widgets/controls"
          }
        },
        "9acda257f95146d0a5656d57b595c440": {
          "model_module": "@jupyter-widgets/base",
          "model_name": "LayoutModel",
          "state": {
            "_view_name": "LayoutView",
            "grid_template_rows": null,
            "right": null,
            "justify_content": null,
            "_view_module": "@jupyter-widgets/base",
            "overflow": null,
            "_model_module_version": "1.2.0",
            "_view_count": null,
            "flex_flow": null,
            "width": null,
            "min_width": null,
            "border": null,
            "align_items": null,
            "bottom": null,
            "_model_module": "@jupyter-widgets/base",
            "top": null,
            "grid_column": null,
            "overflow_y": null,
            "overflow_x": null,
            "grid_auto_flow": null,
            "grid_area": null,
            "grid_template_columns": null,
            "flex": null,
            "_model_name": "LayoutModel",
            "justify_items": null,
            "grid_row": null,
            "max_height": null,
            "align_content": null,
            "visibility": null,
            "align_self": null,
            "height": null,
            "min_height": null,
            "padding": null,
            "grid_auto_rows": null,
            "grid_gap": null,
            "max_width": null,
            "order": null,
            "_view_module_version": "1.2.0",
            "grid_template_areas": null,
            "object_position": null,
            "object_fit": null,
            "grid_auto_columns": null,
            "margin": null,
            "display": null,
            "left": null
          }
        },
        "3bb823f93b8f4e1084666a44f58e95fa": {
          "model_module": "@jupyter-widgets/controls",
          "model_name": "HBoxModel",
          "state": {
            "_view_name": "HBoxView",
            "_dom_classes": [],
            "_model_name": "HBoxModel",
            "_view_module": "@jupyter-widgets/controls",
            "_model_module_version": "1.5.0",
            "_view_count": null,
            "_view_module_version": "1.5.0",
            "box_style": "",
            "layout": "IPY_MODEL_ad54f17d1ef44bf494702b10991c7957",
            "_model_module": "@jupyter-widgets/controls",
            "children": [
              "IPY_MODEL_a55eb4e1a6254c8da65968ee8e8d43fd",
              "IPY_MODEL_2e1deab771ae428d9d4f1519a4365fae"
            ]
          }
        },
        "ad54f17d1ef44bf494702b10991c7957": {
          "model_module": "@jupyter-widgets/base",
          "model_name": "LayoutModel",
          "state": {
            "_view_name": "LayoutView",
            "grid_template_rows": null,
            "right": null,
            "justify_content": null,
            "_view_module": "@jupyter-widgets/base",
            "overflow": null,
            "_model_module_version": "1.2.0",
            "_view_count": null,
            "flex_flow": null,
            "width": null,
            "min_width": null,
            "border": null,
            "align_items": null,
            "bottom": null,
            "_model_module": "@jupyter-widgets/base",
            "top": null,
            "grid_column": null,
            "overflow_y": null,
            "overflow_x": null,
            "grid_auto_flow": null,
            "grid_area": null,
            "grid_template_columns": null,
            "flex": null,
            "_model_name": "LayoutModel",
            "justify_items": null,
            "grid_row": null,
            "max_height": null,
            "align_content": null,
            "visibility": null,
            "align_self": null,
            "height": null,
            "min_height": null,
            "padding": null,
            "grid_auto_rows": null,
            "grid_gap": null,
            "max_width": null,
            "order": null,
            "_view_module_version": "1.2.0",
            "grid_template_areas": null,
            "object_position": null,
            "object_fit": null,
            "grid_auto_columns": null,
            "margin": null,
            "display": null,
            "left": null
          }
        },
        "a55eb4e1a6254c8da65968ee8e8d43fd": {
          "model_module": "@jupyter-widgets/controls",
          "model_name": "FloatProgressModel",
          "state": {
            "_view_name": "ProgressView",
            "style": "IPY_MODEL_10bae97a712b48b983edf272fe7e0efe",
            "_dom_classes": [],
            "description": "Downloading: 100%",
            "_model_name": "FloatProgressModel",
            "bar_style": "success",
            "max": 570,
            "_view_module": "@jupyter-widgets/controls",
            "_model_module_version": "1.5.0",
            "value": 570,
            "_view_count": null,
            "_view_module_version": "1.5.0",
            "orientation": "horizontal",
            "min": 0,
            "description_tooltip": null,
            "_model_module": "@jupyter-widgets/controls",
            "layout": "IPY_MODEL_28b14bbaddbd4a16ab2ef769d89db291"
          }
        },
        "2e1deab771ae428d9d4f1519a4365fae": {
          "model_module": "@jupyter-widgets/controls",
          "model_name": "HTMLModel",
          "state": {
            "_view_name": "HTMLView",
            "style": "IPY_MODEL_ad60971edfd34e3a9335859f9078248d",
            "_dom_classes": [],
            "description": "",
            "_model_name": "HTMLModel",
            "placeholder": "​",
            "_view_module": "@jupyter-widgets/controls",
            "_model_module_version": "1.5.0",
            "value": " 570/570 [00:00&lt;00:00, 4.22kB/s]",
            "_view_count": null,
            "_view_module_version": "1.5.0",
            "description_tooltip": null,
            "_model_module": "@jupyter-widgets/controls",
            "layout": "IPY_MODEL_777b9ed95b42426abae31a5ee738b99a"
          }
        },
        "10bae97a712b48b983edf272fe7e0efe": {
          "model_module": "@jupyter-widgets/controls",
          "model_name": "ProgressStyleModel",
          "state": {
            "_view_name": "StyleView",
            "_model_name": "ProgressStyleModel",
            "description_width": "initial",
            "_view_module": "@jupyter-widgets/base",
            "_model_module_version": "1.5.0",
            "_view_count": null,
            "_view_module_version": "1.2.0",
            "bar_color": null,
            "_model_module": "@jupyter-widgets/controls"
          }
        },
        "28b14bbaddbd4a16ab2ef769d89db291": {
          "model_module": "@jupyter-widgets/base",
          "model_name": "LayoutModel",
          "state": {
            "_view_name": "LayoutView",
            "grid_template_rows": null,
            "right": null,
            "justify_content": null,
            "_view_module": "@jupyter-widgets/base",
            "overflow": null,
            "_model_module_version": "1.2.0",
            "_view_count": null,
            "flex_flow": null,
            "width": null,
            "min_width": null,
            "border": null,
            "align_items": null,
            "bottom": null,
            "_model_module": "@jupyter-widgets/base",
            "top": null,
            "grid_column": null,
            "overflow_y": null,
            "overflow_x": null,
            "grid_auto_flow": null,
            "grid_area": null,
            "grid_template_columns": null,
            "flex": null,
            "_model_name": "LayoutModel",
            "justify_items": null,
            "grid_row": null,
            "max_height": null,
            "align_content": null,
            "visibility": null,
            "align_self": null,
            "height": null,
            "min_height": null,
            "padding": null,
            "grid_auto_rows": null,
            "grid_gap": null,
            "max_width": null,
            "order": null,
            "_view_module_version": "1.2.0",
            "grid_template_areas": null,
            "object_position": null,
            "object_fit": null,
            "grid_auto_columns": null,
            "margin": null,
            "display": null,
            "left": null
          }
        },
        "ad60971edfd34e3a9335859f9078248d": {
          "model_module": "@jupyter-widgets/controls",
          "model_name": "DescriptionStyleModel",
          "state": {
            "_view_name": "StyleView",
            "_model_name": "DescriptionStyleModel",
            "description_width": "",
            "_view_module": "@jupyter-widgets/base",
            "_model_module_version": "1.5.0",
            "_view_count": null,
            "_view_module_version": "1.2.0",
            "_model_module": "@jupyter-widgets/controls"
          }
        },
        "777b9ed95b42426abae31a5ee738b99a": {
          "model_module": "@jupyter-widgets/base",
          "model_name": "LayoutModel",
          "state": {
            "_view_name": "LayoutView",
            "grid_template_rows": null,
            "right": null,
            "justify_content": null,
            "_view_module": "@jupyter-widgets/base",
            "overflow": null,
            "_model_module_version": "1.2.0",
            "_view_count": null,
            "flex_flow": null,
            "width": null,
            "min_width": null,
            "border": null,
            "align_items": null,
            "bottom": null,
            "_model_module": "@jupyter-widgets/base",
            "top": null,
            "grid_column": null,
            "overflow_y": null,
            "overflow_x": null,
            "grid_auto_flow": null,
            "grid_area": null,
            "grid_template_columns": null,
            "flex": null,
            "_model_name": "LayoutModel",
            "justify_items": null,
            "grid_row": null,
            "max_height": null,
            "align_content": null,
            "visibility": null,
            "align_self": null,
            "height": null,
            "min_height": null,
            "padding": null,
            "grid_auto_rows": null,
            "grid_gap": null,
            "max_width": null,
            "order": null,
            "_view_module_version": "1.2.0",
            "grid_template_areas": null,
            "object_position": null,
            "object_fit": null,
            "grid_auto_columns": null,
            "margin": null,
            "display": null,
            "left": null
          }
        },
        "a1cc1756571f45eca66e458c9becb305": {
          "model_module": "@jupyter-widgets/controls",
          "model_name": "HBoxModel",
          "state": {
            "_view_name": "HBoxView",
            "_dom_classes": [],
            "_model_name": "HBoxModel",
            "_view_module": "@jupyter-widgets/controls",
            "_model_module_version": "1.5.0",
            "_view_count": null,
            "_view_module_version": "1.5.0",
            "box_style": "",
            "layout": "IPY_MODEL_af8de8dafc964d30aceae10e12a2cb7b",
            "_model_module": "@jupyter-widgets/controls",
            "children": [
              "IPY_MODEL_bacaea7caaa54559b42380d127886c4c",
              "IPY_MODEL_a2c1a9fe96134984b21d319be1c3cf83"
            ]
          }
        },
        "af8de8dafc964d30aceae10e12a2cb7b": {
          "model_module": "@jupyter-widgets/base",
          "model_name": "LayoutModel",
          "state": {
            "_view_name": "LayoutView",
            "grid_template_rows": null,
            "right": null,
            "justify_content": null,
            "_view_module": "@jupyter-widgets/base",
            "overflow": null,
            "_model_module_version": "1.2.0",
            "_view_count": null,
            "flex_flow": null,
            "width": null,
            "min_width": null,
            "border": null,
            "align_items": null,
            "bottom": null,
            "_model_module": "@jupyter-widgets/base",
            "top": null,
            "grid_column": null,
            "overflow_y": null,
            "overflow_x": null,
            "grid_auto_flow": null,
            "grid_area": null,
            "grid_template_columns": null,
            "flex": null,
            "_model_name": "LayoutModel",
            "justify_items": null,
            "grid_row": null,
            "max_height": null,
            "align_content": null,
            "visibility": null,
            "align_self": null,
            "height": null,
            "min_height": null,
            "padding": null,
            "grid_auto_rows": null,
            "grid_gap": null,
            "max_width": null,
            "order": null,
            "_view_module_version": "1.2.0",
            "grid_template_areas": null,
            "object_position": null,
            "object_fit": null,
            "grid_auto_columns": null,
            "margin": null,
            "display": null,
            "left": null
          }
        },
        "bacaea7caaa54559b42380d127886c4c": {
          "model_module": "@jupyter-widgets/controls",
          "model_name": "FloatProgressModel",
          "state": {
            "_view_name": "ProgressView",
            "style": "IPY_MODEL_af07266ddcdb4988a20ccd2deebf7023",
            "_dom_classes": [],
            "description": "Downloading: 100%",
            "_model_name": "FloatProgressModel",
            "bar_style": "success",
            "max": 440473133,
            "_view_module": "@jupyter-widgets/controls",
            "_model_module_version": "1.5.0",
            "value": 440473133,
            "_view_count": null,
            "_view_module_version": "1.5.0",
            "orientation": "horizontal",
            "min": 0,
            "description_tooltip": null,
            "_model_module": "@jupyter-widgets/controls",
            "layout": "IPY_MODEL_d481db3786d24221b5f7d0ad8c2d01a6"
          }
        },
        "a2c1a9fe96134984b21d319be1c3cf83": {
          "model_module": "@jupyter-widgets/controls",
          "model_name": "HTMLModel",
          "state": {
            "_view_name": "HTMLView",
            "style": "IPY_MODEL_937e19a4c74b45aa9ec559abab957973",
            "_dom_classes": [],
            "description": "",
            "_model_name": "HTMLModel",
            "placeholder": "​",
            "_view_module": "@jupyter-widgets/controls",
            "_model_module_version": "1.5.0",
            "value": " 440M/440M [00:08&lt;00:00, 50.2MB/s]",
            "_view_count": null,
            "_view_module_version": "1.5.0",
            "description_tooltip": null,
            "_model_module": "@jupyter-widgets/controls",
            "layout": "IPY_MODEL_1530abe497344c8e96c9df5074d4ab45"
          }
        },
        "af07266ddcdb4988a20ccd2deebf7023": {
          "model_module": "@jupyter-widgets/controls",
          "model_name": "ProgressStyleModel",
          "state": {
            "_view_name": "StyleView",
            "_model_name": "ProgressStyleModel",
            "description_width": "initial",
            "_view_module": "@jupyter-widgets/base",
            "_model_module_version": "1.5.0",
            "_view_count": null,
            "_view_module_version": "1.2.0",
            "bar_color": null,
            "_model_module": "@jupyter-widgets/controls"
          }
        },
        "d481db3786d24221b5f7d0ad8c2d01a6": {
          "model_module": "@jupyter-widgets/base",
          "model_name": "LayoutModel",
          "state": {
            "_view_name": "LayoutView",
            "grid_template_rows": null,
            "right": null,
            "justify_content": null,
            "_view_module": "@jupyter-widgets/base",
            "overflow": null,
            "_model_module_version": "1.2.0",
            "_view_count": null,
            "flex_flow": null,
            "width": null,
            "min_width": null,
            "border": null,
            "align_items": null,
            "bottom": null,
            "_model_module": "@jupyter-widgets/base",
            "top": null,
            "grid_column": null,
            "overflow_y": null,
            "overflow_x": null,
            "grid_auto_flow": null,
            "grid_area": null,
            "grid_template_columns": null,
            "flex": null,
            "_model_name": "LayoutModel",
            "justify_items": null,
            "grid_row": null,
            "max_height": null,
            "align_content": null,
            "visibility": null,
            "align_self": null,
            "height": null,
            "min_height": null,
            "padding": null,
            "grid_auto_rows": null,
            "grid_gap": null,
            "max_width": null,
            "order": null,
            "_view_module_version": "1.2.0",
            "grid_template_areas": null,
            "object_position": null,
            "object_fit": null,
            "grid_auto_columns": null,
            "margin": null,
            "display": null,
            "left": null
          }
        },
        "937e19a4c74b45aa9ec559abab957973": {
          "model_module": "@jupyter-widgets/controls",
          "model_name": "DescriptionStyleModel",
          "state": {
            "_view_name": "StyleView",
            "_model_name": "DescriptionStyleModel",
            "description_width": "",
            "_view_module": "@jupyter-widgets/base",
            "_model_module_version": "1.5.0",
            "_view_count": null,
            "_view_module_version": "1.2.0",
            "_model_module": "@jupyter-widgets/controls"
          }
        },
        "1530abe497344c8e96c9df5074d4ab45": {
          "model_module": "@jupyter-widgets/base",
          "model_name": "LayoutModel",
          "state": {
            "_view_name": "LayoutView",
            "grid_template_rows": null,
            "right": null,
            "justify_content": null,
            "_view_module": "@jupyter-widgets/base",
            "overflow": null,
            "_model_module_version": "1.2.0",
            "_view_count": null,
            "flex_flow": null,
            "width": null,
            "min_width": null,
            "border": null,
            "align_items": null,
            "bottom": null,
            "_model_module": "@jupyter-widgets/base",
            "top": null,
            "grid_column": null,
            "overflow_y": null,
            "overflow_x": null,
            "grid_auto_flow": null,
            "grid_area": null,
            "grid_template_columns": null,
            "flex": null,
            "_model_name": "LayoutModel",
            "justify_items": null,
            "grid_row": null,
            "max_height": null,
            "align_content": null,
            "visibility": null,
            "align_self": null,
            "height": null,
            "min_height": null,
            "padding": null,
            "grid_auto_rows": null,
            "grid_gap": null,
            "max_width": null,
            "order": null,
            "_view_module_version": "1.2.0",
            "grid_template_areas": null,
            "object_position": null,
            "object_fit": null,
            "grid_auto_columns": null,
            "margin": null,
            "display": null,
            "left": null
          }
        }
      }
    }
  },
  "cells": [
    {
      "cell_type": "code",
      "metadata": {
        "id": "SfAhyD3vvYNl",
        "colab": {
          "base_uri": "https://localhost:8080/"
        },
        "outputId": "1b49bb64-1f16-45e4-b5ff-0e35ef750832"
      },
      "source": [
        "from google.colab import drive\n",
        "drive.mount('/content/drive')"
      ],
      "execution_count": 1,
      "outputs": [
        {
          "output_type": "stream",
          "text": [
            "Mounted at /content/drive\n"
          ],
          "name": "stdout"
        }
      ]
    },
    {
      "cell_type": "code",
      "metadata": {
        "id": "MSRcre89w1TK",
        "colab": {
          "base_uri": "https://localhost:8080/"
        },
        "outputId": "440384c4-f21b-460b-b42f-be64269dee93"
      },
      "source": [
        "!ls /content/drive/MyDrive/AmazonMLChallenge/dataset\n",
        "!pip install transformers"
      ],
      "execution_count": 2,
      "outputs": [
        {
          "output_type": "stream",
          "text": [
            "best_model_state.bin   sdd.csv\t\t      train.csv\n",
            "best_model_state.pt    test.csv\t\t      train_preprocessed.csv\n",
            "sample_submission.csv  test_preprocessed.csv\n",
            "Collecting transformers\n",
            "  Downloading transformers-4.9.1-py3-none-any.whl (2.6 MB)\n",
            "\u001b[K     |████████████████████████████████| 2.6 MB 7.9 MB/s \n",
            "\u001b[?25hRequirement already satisfied: regex!=2019.12.17 in /usr/local/lib/python3.7/dist-packages (from transformers) (2019.12.20)\n",
            "Requirement already satisfied: importlib-metadata in /usr/local/lib/python3.7/dist-packages (from transformers) (4.6.1)\n",
            "Collecting sacremoses\n",
            "  Downloading sacremoses-0.0.45-py3-none-any.whl (895 kB)\n",
            "\u001b[K     |████████████████████████████████| 895 kB 56.0 MB/s \n",
            "\u001b[?25hCollecting pyyaml>=5.1\n",
            "  Downloading PyYAML-5.4.1-cp37-cp37m-manylinux1_x86_64.whl (636 kB)\n",
            "\u001b[K     |████████████████████████████████| 636 kB 58.2 MB/s \n",
            "\u001b[?25hRequirement already satisfied: numpy>=1.17 in /usr/local/lib/python3.7/dist-packages (from transformers) (1.19.5)\n",
            "Collecting huggingface-hub==0.0.12\n",
            "  Downloading huggingface_hub-0.0.12-py3-none-any.whl (37 kB)\n",
            "Collecting tokenizers<0.11,>=0.10.1\n",
            "  Downloading tokenizers-0.10.3-cp37-cp37m-manylinux_2_5_x86_64.manylinux1_x86_64.manylinux_2_12_x86_64.manylinux2010_x86_64.whl (3.3 MB)\n",
            "\u001b[K     |████████████████████████████████| 3.3 MB 60.8 MB/s \n",
            "\u001b[?25hRequirement already satisfied: filelock in /usr/local/lib/python3.7/dist-packages (from transformers) (3.0.12)\n",
            "Requirement already satisfied: requests in /usr/local/lib/python3.7/dist-packages (from transformers) (2.23.0)\n",
            "Requirement already satisfied: packaging in /usr/local/lib/python3.7/dist-packages (from transformers) (21.0)\n",
            "Requirement already satisfied: tqdm>=4.27 in /usr/local/lib/python3.7/dist-packages (from transformers) (4.41.1)\n",
            "Requirement already satisfied: typing-extensions in /usr/local/lib/python3.7/dist-packages (from huggingface-hub==0.0.12->transformers) (3.7.4.3)\n",
            "Requirement already satisfied: pyparsing>=2.0.2 in /usr/local/lib/python3.7/dist-packages (from packaging->transformers) (2.4.7)\n",
            "Requirement already satisfied: zipp>=0.5 in /usr/local/lib/python3.7/dist-packages (from importlib-metadata->transformers) (3.5.0)\n",
            "Requirement already satisfied: urllib3!=1.25.0,!=1.25.1,<1.26,>=1.21.1 in /usr/local/lib/python3.7/dist-packages (from requests->transformers) (1.24.3)\n",
            "Requirement already satisfied: chardet<4,>=3.0.2 in /usr/local/lib/python3.7/dist-packages (from requests->transformers) (3.0.4)\n",
            "Requirement already satisfied: certifi>=2017.4.17 in /usr/local/lib/python3.7/dist-packages (from requests->transformers) (2021.5.30)\n",
            "Requirement already satisfied: idna<3,>=2.5 in /usr/local/lib/python3.7/dist-packages (from requests->transformers) (2.10)\n",
            "Requirement already satisfied: joblib in /usr/local/lib/python3.7/dist-packages (from sacremoses->transformers) (1.0.1)\n",
            "Requirement already satisfied: click in /usr/local/lib/python3.7/dist-packages (from sacremoses->transformers) (7.1.2)\n",
            "Requirement already satisfied: six in /usr/local/lib/python3.7/dist-packages (from sacremoses->transformers) (1.15.0)\n",
            "Installing collected packages: tokenizers, sacremoses, pyyaml, huggingface-hub, transformers\n",
            "  Attempting uninstall: pyyaml\n",
            "    Found existing installation: PyYAML 3.13\n",
            "    Uninstalling PyYAML-3.13:\n",
            "      Successfully uninstalled PyYAML-3.13\n",
            "Successfully installed huggingface-hub-0.0.12 pyyaml-5.4.1 sacremoses-0.0.45 tokenizers-0.10.3 transformers-4.9.1\n"
          ],
          "name": "stdout"
        }
      ]
    },
    {
      "cell_type": "code",
      "metadata": {
        "id": "PkyqBKtgx1tJ",
        "colab": {
          "base_uri": "https://localhost:8080/"
        },
        "outputId": "0ec47cea-8538-43d6-b85c-2afad124a356"
      },
      "source": [
        "import pandas as pd\n",
        "import numpy as np\n",
        "import csv\n",
        "import transformers\n",
        "from transformers import BertModel, BertTokenizer, AdamW, get_linear_schedule_with_warmup\n",
        "import torch\n",
        "import gc\n",
        "gc.collect()\n",
        "torch.cuda.empty_cache()\n",
        "import numpy as np\n",
        "import pandas as pd\n",
        "import seaborn as sns\n",
        "from pylab import rcParams\n",
        "import matplotlib.pyplot as plt\n",
        "from matplotlib import rc\n",
        "from sklearn.model_selection import train_test_split\n",
        "from sklearn.metrics import confusion_matrix, classification_report\n",
        "from collections import defaultdict\n",
        "from textwrap import wrap\n",
        "from torch import nn, optim\n",
        "from torch.utils.data import Dataset, DataLoader\n",
        "import torch.nn.functional as F\n",
        "import regex as re\n",
        "from sklearn import preprocessing\n",
        "%matplotlib inline\n",
        "%config InlineBackend.figure_format='retina'\n",
        "sns.set(style='whitegrid', palette='muted', font_scale=1.2)\n",
        "HAPPY_COLORS_PALETTE = [\"#01BEFE\", \"#FFDD00\", \"#FF7D00\", \"#FF006D\", \"#ADFF02\", \"#8F00FF\"]\n",
        "sns.set_palette(sns.color_palette(HAPPY_COLORS_PALETTE))\n",
        "rcParams['figure.figsize'] = 12, 8\n",
        "RANDOM_SEED = 42\n",
        "np.random.seed(RANDOM_SEED)\n",
        "torch.manual_seed(RANDOM_SEED)\n",
        "device = torch.device(\"cuda:0\" if torch.cuda.is_available() else \"cpu\")\n",
        "device "
      ],
      "execution_count": 3,
      "outputs": [
        {
          "output_type": "execute_result",
          "data": {
            "text/plain": [
              "device(type='cuda', index=0)"
            ]
          },
          "metadata": {
            "tags": []
          },
          "execution_count": 3
        }
      ]
    },
    {
      "cell_type": "code",
      "metadata": {
        "id": "bA51yODgx5ZH",
        "colab": {
          "base_uri": "https://localhost:8080/",
          "height": 289
        },
        "outputId": "6e3cbf72-d2e5-4641-e0e0-4c192ae84532"
      },
      "source": [
        "TRAIN_DATA_PATH = '/content/drive/MyDrive/AmazonMLChallenge/dataset/train.csv'\n",
        "TEST_DATA_PATH = '/content/drive/MyDrive/AmazonMLChallenge/dataset/test.csv'\n",
        "train_data = pd.read_csv(TRAIN_DATA_PATH, escapechar='\\\\', quoting=csv.QUOTE_NONE)\n",
        "train_data = train_data.sample(n=100000)\n",
        "train_data.head()"
      ],
      "execution_count": 4,
      "outputs": [
        {
          "output_type": "execute_result",
          "data": {
            "text/html": [
              "<div>\n",
              "<style scoped>\n",
              "    .dataframe tbody tr th:only-of-type {\n",
              "        vertical-align: middle;\n",
              "    }\n",
              "\n",
              "    .dataframe tbody tr th {\n",
              "        vertical-align: top;\n",
              "    }\n",
              "\n",
              "    .dataframe thead th {\n",
              "        text-align: right;\n",
              "    }\n",
              "</style>\n",
              "<table border=\"1\" class=\"dataframe\">\n",
              "  <thead>\n",
              "    <tr style=\"text-align: right;\">\n",
              "      <th></th>\n",
              "      <th>TITLE</th>\n",
              "      <th>DESCRIPTION</th>\n",
              "      <th>BULLET_POINTS</th>\n",
              "      <th>BRAND</th>\n",
              "      <th>BROWSE_NODE_ID</th>\n",
              "    </tr>\n",
              "  </thead>\n",
              "  <tbody>\n",
              "    <tr>\n",
              "      <th>2297143</th>\n",
              "      <td>Amsik®Blind Spot Round Mirror Black, (Real Gla...</td>\n",
              "      <td>The mirrors easily mount to the vehicle's left...</td>\n",
              "      <td>[It is small, but it is smart mirror, and work...</td>\n",
              "      <td>AMSIK</td>\n",
              "      <td>32296</td>\n",
              "    </tr>\n",
              "    <tr>\n",
              "      <th>2078681</th>\n",
              "      <td>Nivea Face Sun Block Whitening Cream SPF 50 Pa...</td>\n",
              "      <td>Nivea Sun Fac Sun Block Whitening Cream Spf 50...</td>\n",
              "      <td>NIVEA face SUN Block Whitening Cream SPF 50 PA ++</td>\n",
              "      <td>Nivea</td>\n",
              "      <td>35</td>\n",
              "    </tr>\n",
              "    <tr>\n",
              "      <th>1125035</th>\n",
              "      <td>ROZVEH Women's Shift Brown Dress</td>\n",
              "      <td>&lt;p&gt;Super Fine Rayon,&amp;nbsp;Brown Floral Print d...</td>\n",
              "      <td>[Material: Super Fine Rayon, Brown Floral Prin...</td>\n",
              "      <td>ROZVEH</td>\n",
              "      <td>1724</td>\n",
              "    </tr>\n",
              "    <tr>\n",
              "      <th>1928801</th>\n",
              "      <td>Narayan Creation Pashmina Palazzo Suit Dupatta...</td>\n",
              "      <td>Narayan creatins pashmina unstitched palazzo s...</td>\n",
              "      <td>NaN</td>\n",
              "      <td>Generic</td>\n",
              "      <td>465</td>\n",
              "    </tr>\n",
              "    <tr>\n",
              "      <th>864509</th>\n",
              "      <td>Q-rious Women's Silicon Strap Spagettis/Camiso...</td>\n",
              "      <td>Trendy Q-rious Spagetti with sequin detachable...</td>\n",
              "      <td>[Silicon and Elastic strap option,Detachable S...</td>\n",
              "      <td>Q-rious</td>\n",
              "      <td>2003</td>\n",
              "    </tr>\n",
              "  </tbody>\n",
              "</table>\n",
              "</div>"
            ],
            "text/plain": [
              "                                                     TITLE  ... BROWSE_NODE_ID\n",
              "2297143  Amsik®Blind Spot Round Mirror Black, (Real Gla...  ...          32296\n",
              "2078681  Nivea Face Sun Block Whitening Cream SPF 50 Pa...  ...             35\n",
              "1125035                   ROZVEH Women's Shift Brown Dress  ...           1724\n",
              "1928801  Narayan Creation Pashmina Palazzo Suit Dupatta...  ...            465\n",
              "864509   Q-rious Women's Silicon Strap Spagettis/Camiso...  ...           2003\n",
              "\n",
              "[5 rows x 5 columns]"
            ]
          },
          "metadata": {
            "tags": []
          },
          "execution_count": 4
        }
      ]
    },
    {
      "cell_type": "code",
      "metadata": {
        "id": "Fm6brbtydYML",
        "colab": {
          "base_uri": "https://localhost:8080/",
          "height": 289
        },
        "outputId": "71db08d6-6ee2-441c-9601-795fd85f6a3c"
      },
      "source": [
        "test_data = pd.read_csv(TEST_DATA_PATH, escapechar='\\\\', quoting=csv.QUOTE_NONE)\n",
        "test_data.head()"
      ],
      "execution_count": 5,
      "outputs": [
        {
          "output_type": "execute_result",
          "data": {
            "text/html": [
              "<div>\n",
              "<style scoped>\n",
              "    .dataframe tbody tr th:only-of-type {\n",
              "        vertical-align: middle;\n",
              "    }\n",
              "\n",
              "    .dataframe tbody tr th {\n",
              "        vertical-align: top;\n",
              "    }\n",
              "\n",
              "    .dataframe thead th {\n",
              "        text-align: right;\n",
              "    }\n",
              "</style>\n",
              "<table border=\"1\" class=\"dataframe\">\n",
              "  <thead>\n",
              "    <tr style=\"text-align: right;\">\n",
              "      <th></th>\n",
              "      <th>PRODUCT_ID</th>\n",
              "      <th>TITLE</th>\n",
              "      <th>DESCRIPTION</th>\n",
              "      <th>BULLET_POINTS</th>\n",
              "      <th>BRAND</th>\n",
              "    </tr>\n",
              "  </thead>\n",
              "  <tbody>\n",
              "    <tr>\n",
              "      <th>0</th>\n",
              "      <td>1</td>\n",
              "      <td>Command 3M Small Kitchen Hooks, White, Decorat...</td>\n",
              "      <td>Sale Unit: PACK</td>\n",
              "      <td>[INCLUDES - 9 hooks and 12 small indoor strips...</td>\n",
              "      <td>Command</td>\n",
              "    </tr>\n",
              "    <tr>\n",
              "      <th>1</th>\n",
              "      <td>2</td>\n",
              "      <td>O'Neal Jump Hardware JAG Unisex-Adult Glove (B...</td>\n",
              "      <td>Synthetic leather palm with double-layer thumb...</td>\n",
              "      <td>[Silicone printing for a better grip. Long las...</td>\n",
              "      <td>O'Neal</td>\n",
              "    </tr>\n",
              "    <tr>\n",
              "      <th>2</th>\n",
              "      <td>3</td>\n",
              "      <td>NFL Detroit Lions Portable Party Fridge, 15.8 ...</td>\n",
              "      <td>Boelter Brands lets you celebrate your favorit...</td>\n",
              "      <td>[Runs on 12 Volt DC Power or 110 Volt AC Power...</td>\n",
              "      <td>Boelter Brands</td>\n",
              "    </tr>\n",
              "    <tr>\n",
              "      <th>3</th>\n",
              "      <td>4</td>\n",
              "      <td>Panasonic Single Line KX-TS880MX Corded Phone ...</td>\n",
              "      <td>Features: 50 Station Phonebook Corded Phone Al...</td>\n",
              "      <td>Panasonic Landline Phones doesn't come with a ...</td>\n",
              "      <td>Panasonic</td>\n",
              "    </tr>\n",
              "    <tr>\n",
              "      <th>4</th>\n",
              "      <td>5</td>\n",
              "      <td>Zero Baby Girl's 100% Cotton Innerwear Bloomer...</td>\n",
              "      <td>Zero Baby Girl Panties Set. 100% Cotton, Breat...</td>\n",
              "      <td>[Zero Baby Girl Panties, Pack of 6, 100% Cotto...</td>\n",
              "      <td>Zero</td>\n",
              "    </tr>\n",
              "  </tbody>\n",
              "</table>\n",
              "</div>"
            ],
            "text/plain": [
              "   PRODUCT_ID  ...           BRAND\n",
              "0           1  ...         Command\n",
              "1           2  ...          O'Neal\n",
              "2           3  ...  Boelter Brands\n",
              "3           4  ...       Panasonic\n",
              "4           5  ...            Zero\n",
              "\n",
              "[5 rows x 5 columns]"
            ]
          },
          "metadata": {
            "tags": []
          },
          "execution_count": 5
        }
      ]
    },
    {
      "cell_type": "code",
      "metadata": {
        "id": "cELc-bG9f1Kc"
      },
      "source": [
        "# print('Sample TITLE:\\n', train_data.loc[0, 'TITLE'])\n",
        "# print('\\nSample DESCRIPTION:\\n', train_data.loc[0, 'DESCRIPTION'])\n",
        "# print('\\nSample BULLET_POINTS:\\n', train_data.loc[0, 'BULLET_POINTS'])"
      ],
      "execution_count": 6,
      "outputs": []
    },
    {
      "cell_type": "code",
      "metadata": {
        "id": "wRc7T3OkzR0_",
        "colab": {
          "base_uri": "https://localhost:8080/"
        },
        "outputId": "5cc07302-5738-4122-8504-c30e09275dfb"
      },
      "source": [
        "print('No of unique TITLEs:', len(train_data.TITLE.unique()))\n",
        "print('No of unique BRANDs:', len(train_data.BRAND.unique()))"
      ],
      "execution_count": 7,
      "outputs": [
        {
          "output_type": "stream",
          "text": [
            "No of unique TITLEs: 99448\n",
            "No of unique BRANDs: 36649\n"
          ],
          "name": "stdout"
        }
      ]
    },
    {
      "cell_type": "code",
      "metadata": {
        "id": "MuyfuQkrfdaQ"
      },
      "source": [
        "def preprocess(x):\n",
        "    x = x.replace(',', ' ')\n",
        "    x = x.replace(';', ' ')\n",
        "    x = x.replace(':', ' ')\n",
        "    x = x.replace('-', ' ')\n",
        "    x = x.replace('[', ' ')\n",
        "    x = x.replace(']', ' ')\n",
        "    x = x.replace('(', ' ')\n",
        "    x = x.replace(')', ' ')\n",
        "    x = x.replace('{', ' ')\n",
        "    x = x.replace('}', ' ')\n",
        "\n",
        "    # To convert cases like 14. 5 or 14 .5 or 14 . 5 or 14.5 to 145,\n",
        "    # since tokernizer won't handle decimal numbers\n",
        "    x = re.sub(r\"(\\d)\\s*\\.\\s*(\\d)\", r\"\\1\\2\", x)\n",
        "    x = re.sub(r\"\\b\\d+\\b\", ' ', x)\n",
        "\n",
        "    x = ' '.join(x.split())\n",
        "\n",
        "    return x\n",
        "\n",
        "def combine_attributes(row):\n",
        "    return row.TITLE + ' ' + row.BULLET_POINTS\n"
      ],
      "execution_count": 8,
      "outputs": []
    },
    {
      "cell_type": "code",
      "metadata": {
        "id": "m_xfAq_6dc2O"
      },
      "source": [
        "# Preprocessing the textual data\n",
        "# 1. Removing commas, brackets, colons, semicolons\n",
        "# 2. Removing excess whitespaces within lines\n",
        "# 3. Joining bullet points into a single line\n",
        "# 4. Replacing NaN bullet points by description if it's not NaN, otherwise replace by a \"nil\"\n",
        "#\n",
        "# Joining data as < [CLS] title [SEP] bullet_points > for feeding into the BERT model\n",
        "\n",
        "# for data in [train_data, test_data]:\n",
        "#     data['TITLE'] = data.TITLE.apply(preprocess)\n",
        "#     data['DESCRIPTION'] = data.DESCRIPTION.apply(preprocess)\n",
        "#     data['BULLET_POINTS'] = data.BULLET_POINTS.apply(preprocess)\n",
        "#     data['TEXT'] = data.apply(combine_attributes, axis=1)\n",
        "\n",
        "# train_data.head()"
      ],
      "execution_count": 9,
      "outputs": []
    },
    {
      "cell_type": "code",
      "metadata": {
        "id": "8BAjTyx5ZwQS"
      },
      "source": [
        "# train_data.to_csv('/content/drive/MyDrive/AmazonMLChallenge/dataset/train_preprocessed.csv')\n",
        "# test_data.to_csv('/content/drive/MyDrive/AmazonMLChallenge/dataset/test_preprocessed.csv')"
      ],
      "execution_count": 10,
      "outputs": []
    },
    {
      "cell_type": "code",
      "metadata": {
        "colab": {
          "base_uri": "https://localhost:8080/"
        },
        "id": "PQXj_Q5FaAHr",
        "outputId": "cff12399-3677-4308-b0ac-437ec5fbda54"
      },
      "source": [
        "!ls /content/drive/MyDrive/AmazonMLChallenge/dataset/"
      ],
      "execution_count": 11,
      "outputs": [
        {
          "output_type": "stream",
          "text": [
            "best_model_state.bin   sdd.csv\t\t      train.csv\n",
            "best_model_state.pt    test.csv\t\t      train_preprocessed.csv\n",
            "sample_submission.csv  test_preprocessed.csv\n"
          ],
          "name": "stdout"
        }
      ]
    },
    {
      "cell_type": "code",
      "metadata": {
        "id": "SZo1Zi2zAJSo",
        "colab": {
          "base_uri": "https://localhost:8080/",
          "height": 335,
          "referenced_widgets": [
            "d4a6f77984034263a009a0901c7cdb62",
            "0b4efcea4d64466a9f1200e1f369a8f4",
            "0326b0f09d874c2cbfdf693a6798d1e0",
            "875fd2263aae4579aa7c59839c3276f1",
            "d81cd04b2e9a4b6f8944120c84e7abf0",
            "00dd5a86de014295a31a1b32400839e7",
            "555201f7c857455fb96f0b6a3f1a2f12",
            "a93dd55d907e424e8f501b666f8ab1bc",
            "685175f6a24b4998b14f5630c97f2357",
            "96608212e7ca44d6afd0cb5a4db3c27f",
            "bc243bac0f8f430693dd5886dc2f7103",
            "0774d3d5623e41479d0af00caf23885b",
            "f6fcc30bf9c342a4be3d88ce5428c3be",
            "ee1edd09e1444596b58c1cccdc1c2995",
            "a39d0d0234ad48d3822f06bc13f893da",
            "196fbc06c8e34d26bc0d8b6cfda15881",
            "2735e90a119741d5b377687fb72109fb",
            "2bb38ba4a26c4c94a7c09a3cd89be9e3",
            "877f7ee6d40045f58044e58e0a116f97",
            "d147d8d69d014f57b43e80d3e2671838",
            "857497f69d174b8dba442733a0a1cd8b",
            "f3e594a5285b44998122f31e89036dc8",
            "1fa80deca76e4241ae5cf450a1c08850",
            "9acda257f95146d0a5656d57b595c440",
            "3bb823f93b8f4e1084666a44f58e95fa",
            "ad54f17d1ef44bf494702b10991c7957",
            "a55eb4e1a6254c8da65968ee8e8d43fd",
            "2e1deab771ae428d9d4f1519a4365fae",
            "10bae97a712b48b983edf272fe7e0efe",
            "28b14bbaddbd4a16ab2ef769d89db291",
            "ad60971edfd34e3a9335859f9078248d",
            "777b9ed95b42426abae31a5ee738b99a"
          ]
        },
        "outputId": "e1cbe3cc-bf6e-47c8-9ad1-442c555b4655"
      },
      "source": [
        " PRE_TRAINED_MODEL_NAME = 'bert-base-uncased'\n",
        " tokenizer = BertTokenizer.from_pretrained(PRE_TRAINED_MODEL_NAME)\n",
        " sample_txt = 'Best place that I have visited? Iceland was the most beautiful and I consider myself lucky to have visited Iceland at such an early age.'\n",
        " #sample_txt = 'When was I last outside? I am stuck at home for 2 weeks.'\n",
        " tokens = tokenizer.tokenize(sample_txt)\n",
        " token_ids = tokenizer.convert_tokens_to_ids(tokens)\n",
        " print(f'  Sentence: {sample_txt}')\n",
        " print(f'\\n  Tokens: {tokens}')\n",
        " print(f'\\n  Token IDs: {token_ids}')   # Each token has a unique ID for the model to understand what we are referring to.\n",
        " len(tokens)"
      ],
      "execution_count": 12,
      "outputs": [
        {
          "output_type": "display_data",
          "data": {
            "application/vnd.jupyter.widget-view+json": {
              "model_id": "d4a6f77984034263a009a0901c7cdb62",
              "version_minor": 0,
              "version_major": 2
            },
            "text/plain": [
              "HBox(children=(FloatProgress(value=0.0, description='Downloading', max=231508.0, style=ProgressStyle(descripti…"
            ]
          },
          "metadata": {
            "tags": []
          }
        },
        {
          "output_type": "stream",
          "text": [
            "\n"
          ],
          "name": "stdout"
        },
        {
          "output_type": "display_data",
          "data": {
            "application/vnd.jupyter.widget-view+json": {
              "model_id": "685175f6a24b4998b14f5630c97f2357",
              "version_minor": 0,
              "version_major": 2
            },
            "text/plain": [
              "HBox(children=(FloatProgress(value=0.0, description='Downloading', max=28.0, style=ProgressStyle(description_w…"
            ]
          },
          "metadata": {
            "tags": []
          }
        },
        {
          "output_type": "stream",
          "text": [
            "\n"
          ],
          "name": "stdout"
        },
        {
          "output_type": "display_data",
          "data": {
            "application/vnd.jupyter.widget-view+json": {
              "model_id": "2735e90a119741d5b377687fb72109fb",
              "version_minor": 0,
              "version_major": 2
            },
            "text/plain": [
              "HBox(children=(FloatProgress(value=0.0, description='Downloading', max=466062.0, style=ProgressStyle(descripti…"
            ]
          },
          "metadata": {
            "tags": []
          }
        },
        {
          "output_type": "stream",
          "text": [
            "\n"
          ],
          "name": "stdout"
        },
        {
          "output_type": "display_data",
          "data": {
            "application/vnd.jupyter.widget-view+json": {
              "model_id": "3bb823f93b8f4e1084666a44f58e95fa",
              "version_minor": 0,
              "version_major": 2
            },
            "text/plain": [
              "HBox(children=(FloatProgress(value=0.0, description='Downloading', max=570.0, style=ProgressStyle(description_…"
            ]
          },
          "metadata": {
            "tags": []
          }
        },
        {
          "output_type": "stream",
          "text": [
            "\n",
            "  Sentence: Best place that I have visited? Iceland was the most beautiful and I consider myself lucky to have visited Iceland at such an early age.\n",
            "\n",
            "  Tokens: ['best', 'place', 'that', 'i', 'have', 'visited', '?', 'iceland', 'was', 'the', 'most', 'beautiful', 'and', 'i', 'consider', 'myself', 'lucky', 'to', 'have', 'visited', 'iceland', 'at', 'such', 'an', 'early', 'age', '.']\n",
            "\n",
            "  Token IDs: [2190, 2173, 2008, 1045, 2031, 4716, 1029, 10399, 2001, 1996, 2087, 3376, 1998, 1045, 5136, 2870, 5341, 2000, 2031, 4716, 10399, 2012, 2107, 2019, 2220, 2287, 1012]\n"
          ],
          "name": "stdout"
        },
        {
          "output_type": "execute_result",
          "data": {
            "text/plain": [
              "27"
            ]
          },
          "metadata": {
            "tags": []
          },
          "execution_count": 12
        }
      ]
    },
    {
      "cell_type": "code",
      "metadata": {
        "id": "FHB4ab4VUkrv"
      },
      "source": [
        "## mapping from browse_id to 0...9918\n",
        "lb = preprocessing.LabelBinarizer()\n",
        "l = lb.fit(list(train_data.BROWSE_NODE_ID))\n",
        "og_to_mapped = {}\n",
        "mapped_to_og = l.classes_\n",
        "for i in range(len(mapped_to_og)):\n",
        "    og_to_mapped[mapped_to_og[i]] = i"
      ],
      "execution_count": 13,
      "outputs": []
    },
    {
      "cell_type": "code",
      "metadata": {
        "id": "-Y9KibBCN7qu"
      },
      "source": [
        "## mapping brand names to integer labels\n",
        "le = preprocessing.LabelEncoder()\n",
        "l = le.fit(list(train_data.BRAND))\n",
        "brand_to_mapped = {}\n",
        "mapped_to_brand = l.classes_\n",
        "for i in range(len(mapped_to_brand)):\n",
        "    brand_to_mapped[mapped_to_brand[i]] = i"
      ],
      "execution_count": 14,
      "outputs": []
    },
    {
      "cell_type": "code",
      "metadata": {
        "id": "DFYI2FusF4KO"
      },
      "source": [
        "class AmazonDataset(Dataset):\n",
        "\n",
        "  def __init__(self, df, tokenizer, max_len):\n",
        "    self.df = df                   # Full df with columns TITLE, DESCRIPTION, BULLET_POINTS, BRAND, BROWSE_NODE_ID\n",
        "    self.tokenizer = tokenizer     # Tokenizer is the BERT_Tokenizer.\n",
        "    self.max_len = max_len         # max_length of each sequence.\n",
        "  \n",
        "  def __len__(self):\n",
        "    return len(self.df)            # Size of dataset\n",
        "  \n",
        "  def __getitem__(self, item):\n",
        "    bullet_pts_str = str(self.df.BULLET_POINTS[item])\n",
        "    bullet_pts_str = \". \".join(bullet_pts_str[1:-1].split(\",\")) if bullet_pts_str[0]=='['  else bullet_pts_str\n",
        "    title_str = str(self.df.TITLE[item])\n",
        "    input = preprocess(title_str) + \" [SEP] \" + preprocess(bullet_pts_str)      # returns the input at the row == item\n",
        "    input_brand = torch.as_tensor(brand_to_mapped.get(str(self.df.BRAND[item]), 36181), dtype=torch.int32)    # returns the brand input at the row == item\n",
        "    target = og_to_mapped[int(self.df.BROWSE_NODE_ID[item])]                    # returns the string of targets at the row == item\n",
        "\n",
        "    encoding = self.tokenizer.encode_plus(\n",
        "      input,\n",
        "      add_special_tokens=True,\n",
        "      max_length=self.max_len,\n",
        "      return_token_type_ids=False,\n",
        "      truncation='only_first',\n",
        "      padding='max_length',\n",
        "      return_attention_mask=True,\n",
        "      return_tensors='pt',\n",
        "    )\n",
        "\n",
        "    return {\n",
        "      'input_text': input,\n",
        "      'input_brand': input_brand,\n",
        "      'input_ids': encoding['input_ids'].flatten(),\n",
        "      'attention_mask': encoding['attention_mask'].flatten(),\n",
        "      'targets': torch.tensor(target, dtype=torch.long)            # dictionary containing all the features is returned.\n",
        "    }"
      ],
      "execution_count": 15,
      "outputs": []
    },
    {
      "cell_type": "code",
      "metadata": {
        "id": "NR01_9KhtW5d"
      },
      "source": [
        "df_train, df_val = train_test_split(train_data, test_size=0.3)\n",
        "df_train = df_train.reset_index()\n",
        "df_val = df_val.reset_index()"
      ],
      "execution_count": 16,
      "outputs": []
    },
    {
      "cell_type": "code",
      "metadata": {
        "id": "MSNJn2YJ_Uhi",
        "colab": {
          "base_uri": "https://localhost:8080/"
        },
        "outputId": "6bb1b73e-ff89-4e7f-de00-961150134b22"
      },
      "source": [
        "def create_data_loader(df, tokenizer, max_len, batch_size):\n",
        "  ds = AmazonDataset(\n",
        "    df=df,\n",
        "    tokenizer=tokenizer,\n",
        "    max_len=max_len\n",
        "  )                                  # Dataset would be created which can be used to create and return dataloader.\n",
        "\n",
        "  return DataLoader(\n",
        "    ds,\n",
        "    batch_size=batch_size,\n",
        "    #num_workers=4\n",
        "  )\n",
        "\n",
        "BATCH_SIZE = 56\n",
        "MAX_LEN = 128\n",
        "train_data_loader = create_data_loader(df_train, tokenizer, MAX_LEN, BATCH_SIZE)\n",
        "val_data_loader = create_data_loader(df_val, tokenizer, MAX_LEN, BATCH_SIZE)\n",
        "#test_data_loader = create_data_loader(df_test, tokenizer, MAX_LEN, BATCH_SIZE)\n",
        "print(type(next(iter(train_data_loader))))\n",
        "data = next(iter(train_data_loader))\n",
        "data.keys()\n",
        "print(data['input_ids'].shape)\n",
        "print(data['attention_mask'].shape)\n",
        "print(data['targets'].shape)\n",
        "print(data['targets']) "
      ],
      "execution_count": 17,
      "outputs": [
        {
          "output_type": "stream",
          "text": [
            "<class 'dict'>\n",
            "torch.Size([56, 128])\n",
            "torch.Size([56, 128])\n",
            "torch.Size([56])\n",
            "tensor([ 678,  541,  891, 1611,  613,  970, 1438,   62,  530,   63,  622, 1199,\n",
            "         596,  491,   85,  689, 1572, 1190,  610,  724,  710, 2164,  701, 2098,\n",
            "         623,  432,  680,  609,  178, 1958,  941,  484,  607,  572, 2566, 2833,\n",
            "         673,  877,  811,  301,  249,  622,  762,  623,  828,  682,  623,  215,\n",
            "        2551,  818,  468,  627, 2798,  827,  697, 1469])\n"
          ],
          "name": "stdout"
        }
      ]
    },
    {
      "cell_type": "code",
      "metadata": {
        "id": "r_TMu1g4_NjA",
        "colab": {
          "base_uri": "https://localhost:8080/",
          "height": 256,
          "referenced_widgets": [
            "a1cc1756571f45eca66e458c9becb305",
            "af8de8dafc964d30aceae10e12a2cb7b",
            "bacaea7caaa54559b42380d127886c4c",
            "a2c1a9fe96134984b21d319be1c3cf83",
            "af07266ddcdb4988a20ccd2deebf7023",
            "d481db3786d24221b5f7d0ad8c2d01a6",
            "937e19a4c74b45aa9ec559abab957973",
            "1530abe497344c8e96c9df5074d4ab45"
          ]
        },
        "outputId": "5e7423ea-f177-4d0d-adb4-bc93f8934118"
      },
      "source": [
        " bert_model = BertModel.from_pretrained(PRE_TRAINED_MODEL_NAME)\n",
        " \"\"\"\n",
        " model_test = bert_model(\n",
        "   input_ids=encoding_test['input_ids'], \n",
        "   attention_mask=encoding_test['attention_mask']\n",
        " )\n",
        " model_test.keys()\n",
        " last_hidden_state=model_test['last_hidden_state']\n",
        " pooled_output=model_test['pooler_output']\n",
        " last_hidden_state.shape\n",
        " bert_model.config.hidden_size\n",
        " pooled_output.shape\n",
        " \"\"\"\n",
        " class ProductClassifier(nn.Module):\n",
        "   def __init__(self, n_classes):\n",
        "     super(ProductClassifier, self).__init__()\n",
        "     self.bert = BertModel.from_pretrained(PRE_TRAINED_MODEL_NAME)\n",
        "     self.drop = nn.Dropout(p=0.3)                                 ## For regularization with dropout probability 0.3.\n",
        "     self.out = nn.Linear(self.bert.config.hidden_size+1, n_classes) ## append an Output fully connected layer representing the number of classes\n",
        "     self.brandL1 = nn.Linear(1,1)\n",
        "     self.brandAct = nn.ReLU()\n",
        "     \n",
        "   def forward(self, brand_id, input_ids, attention_mask):\n",
        "     returned = self.bert(\n",
        "       input_ids=input_ids,\n",
        "       attention_mask=attention_mask\n",
        "     )\n",
        "     brand_out = self.brandAct(self.brandL1(brand_id.float()))\n",
        "     pooled_output = returned[\"pooler_output\"]\n",
        "     output = self.drop(pooled_output)\n",
        "     cat_output = torch.cat((brand_out, output), dim=1)\n",
        "     return self.out(cat_output)\n",
        " \n",
        " model = ProductClassifier(9919)\n",
        " model = model.to(device)\n",
        " input_ids = data['input_ids'].to(device)\n",
        " attention_mask = data['attention_mask'].to(device)\n",
        " brand_id = data['input_brand'].reshape((-1, 1)).to(device)\n",
        " print(input_ids.dtype)\n",
        " print(input_ids.shape)      # batch size x seq length\n",
        " print(attention_mask.shape) # batch size x seq length\n",
        " print(brand_id.shape)       # batch size x seq length\n",
        " F.softmax(model(brand_id, input_ids, attention_mask), dim=1)\n",
        " EPOCHS = 10\n",
        " optimizer = AdamW(model.parameters(), lr=2e-5, correct_bias=False)\n",
        " total_steps = len(train_data_loader) * EPOCHS    # Number of batches * Epochs (Required for the scheduler.)\n",
        " scheduler = get_linear_schedule_with_warmup(\n",
        "   optimizer,\n",
        "   num_warmup_steps=0,     # Recommended in the BERT paper.\n",
        "   num_training_steps=total_steps  \n",
        " )\n",
        " loss_fn = nn.CrossEntropyLoss().to(device) "
      ],
      "execution_count": 18,
      "outputs": [
        {
          "output_type": "display_data",
          "data": {
            "application/vnd.jupyter.widget-view+json": {
              "model_id": "a1cc1756571f45eca66e458c9becb305",
              "version_minor": 0,
              "version_major": 2
            },
            "text/plain": [
              "HBox(children=(FloatProgress(value=0.0, description='Downloading', max=440473133.0, style=ProgressStyle(descri…"
            ]
          },
          "metadata": {
            "tags": []
          }
        },
        {
          "output_type": "stream",
          "text": [
            "\n"
          ],
          "name": "stdout"
        },
        {
          "output_type": "stream",
          "text": [
            "Some weights of the model checkpoint at bert-base-uncased were not used when initializing BertModel: ['cls.predictions.transform.LayerNorm.bias', 'cls.predictions.decoder.weight', 'cls.predictions.transform.dense.weight', 'cls.predictions.transform.LayerNorm.weight', 'cls.predictions.transform.dense.bias', 'cls.seq_relationship.weight', 'cls.seq_relationship.bias', 'cls.predictions.bias']\n",
            "- This IS expected if you are initializing BertModel from the checkpoint of a model trained on another task or with another architecture (e.g. initializing a BertForSequenceClassification model from a BertForPreTraining model).\n",
            "- This IS NOT expected if you are initializing BertModel from the checkpoint of a model that you expect to be exactly identical (initializing a BertForSequenceClassification model from a BertForSequenceClassification model).\n",
            "Some weights of the model checkpoint at bert-base-uncased were not used when initializing BertModel: ['cls.predictions.transform.LayerNorm.bias', 'cls.predictions.decoder.weight', 'cls.predictions.transform.dense.weight', 'cls.predictions.transform.LayerNorm.weight', 'cls.predictions.transform.dense.bias', 'cls.seq_relationship.weight', 'cls.seq_relationship.bias', 'cls.predictions.bias']\n",
            "- This IS expected if you are initializing BertModel from the checkpoint of a model trained on another task or with another architecture (e.g. initializing a BertForSequenceClassification model from a BertForPreTraining model).\n",
            "- This IS NOT expected if you are initializing BertModel from the checkpoint of a model that you expect to be exactly identical (initializing a BertForSequenceClassification model from a BertForSequenceClassification model).\n"
          ],
          "name": "stderr"
        },
        {
          "output_type": "stream",
          "text": [
            "torch.int64\n",
            "torch.Size([56, 128])\n",
            "torch.Size([56, 128])\n",
            "torch.Size([56, 1])\n"
          ],
          "name": "stdout"
        }
      ]
    },
    {
      "cell_type": "code",
      "metadata": {
        "id": "hjS39Lw0MOMT",
        "colab": {
          "base_uri": "https://localhost:8080/"
        },
        "outputId": "9371554d-3898-4047-966c-52962dd8e7f4"
      },
      "source": [
        "print(bert_model.config.hidden_size)"
      ],
      "execution_count": 19,
      "outputs": [
        {
          "output_type": "stream",
          "text": [
            "768\n"
          ],
          "name": "stdout"
        }
      ]
    },
    {
      "cell_type": "code",
      "metadata": {
        "id": "URHOTCRL_mWf"
      },
      "source": [
        " def train_epoch(\n",
        "   model, \n",
        "   data_loader, \n",
        "   loss_fn, \n",
        "   optimizer, \n",
        "   device, \n",
        "   scheduler, \n",
        "   n_examples\n",
        " ):\n",
        "   model = model.train()    # To make sure that the droupout and normalization is enabled during the training.\n",
        "   losses = []\n",
        "   correct_predictions = 0\n",
        "   for d in data_loader:\n",
        "     input_ids = d[\"input_ids\"].to(device)\n",
        "     attention_mask = d[\"attention_mask\"].to(device)\n",
        "     brand_id = d[\"input_brand\"].reshape((-1, 1)).to(device)\n",
        "     targets = d[\"targets\"].to(device)\n",
        "     outputs = model(\n",
        "       brand_id=brand_id,\n",
        "       input_ids=input_ids,\n",
        "       attention_mask=attention_mask\n",
        "     )\n",
        "     max_prob, preds = torch.max(outputs, dim=1)    # Returns 2 tensors, one with max_probability and another with the respective predicted label.\n",
        "     loss = loss_fn(outputs, targets)\n",
        "     correct_predictions += torch.sum(preds == targets)\n",
        "     losses.append(loss.item())\n",
        "     loss.backward()     # Back_Propogation\n",
        "     nn.utils.clip_grad_norm_(model.parameters(), max_norm=1.0)  # Recommended by the BERT paper to clip the gradients to avoid exploding gradients.\n",
        "     optimizer.step()\n",
        "     scheduler.step()\n",
        "     optimizer.zero_grad()\n",
        "   return correct_predictions.double() / n_examples, np.mean(losses)     # Return the mean loss and the ratio of correct predictions. "
      ],
      "execution_count": 20,
      "outputs": []
    },
    {
      "cell_type": "code",
      "metadata": {
        "id": "n1f-o76elY49"
      },
      "source": [
        "def eval_model(model, data_loader, loss_fn, device, n_examples):\n",
        "  model = model.eval()        # To make sure that the droupout and normalization is disabled during the training.\n",
        "\n",
        "  losses = []\n",
        "  correct_predictions = 0\n",
        "\n",
        "  with torch.no_grad():        # Back propogation is not required. Torch would perform faster. \n",
        "    for d in data_loader:\n",
        "      input_ids = d[\"input_ids\"].to(device)\n",
        "      attention_mask = d[\"attention_mask\"].to(device)\n",
        "      brand_id = d[\"input_brand\"].reshape((-1, 1)).to(device)\n",
        "      targets = d[\"targets\"].to(device)\n",
        "\n",
        "      outputs = model(\n",
        "        brand_id = brand_id,\n",
        "        input_ids=input_ids,\n",
        "        attention_mask=attention_mask\n",
        "      )\n",
        "      max_prob, preds = torch.max(outputs, dim=1)\n",
        "\n",
        "      loss = loss_fn(outputs, targets)\n",
        "\n",
        "      correct_predictions += torch.sum(preds == targets)\n",
        "      losses.append(loss.item())\n",
        "\n",
        "  return correct_predictions.double() / n_examples, np.mean(losses)"
      ],
      "execution_count": 21,
      "outputs": []
    },
    {
      "cell_type": "code",
      "metadata": {
        "id": "cRHAwPeV-R7-"
      },
      "source": [
        "# checkpoint = torch.load('/content/drive/MyDrive/AmazonMLChallenge/abismodel/best_model_state.pt')\n",
        "# model.load_state_dict(checkpoint['model_state_dict'])\n",
        "# optimizer.load_state_dict(checkpoint['optimizer_state_dict'])"
      ],
      "execution_count": 22,
      "outputs": []
    },
    {
      "cell_type": "code",
      "metadata": {
        "id": "LU3SpMZm-ilD"
      },
      "source": [
        "# del checkpoint"
      ],
      "execution_count": 23,
      "outputs": []
    },
    {
      "cell_type": "code",
      "metadata": {
        "colab": {
          "base_uri": "https://localhost:8080/"
        },
        "id": "2J-cLc6RsMeu",
        "outputId": "8acee1d5-8382-475f-e198-400f5d526564"
      },
      "source": [
        "%%time\n",
        "\n",
        "history = defaultdict(list)          # Similar to Keras library saves history\n",
        "best_accuracy = 0                    \n",
        "\n",
        "for epoch in range(EPOCHS):\n",
        "\n",
        "  print(f'Epoch {epoch + 1}/{EPOCHS}')\n",
        "  print('-' * 10)\n",
        "\n",
        "  train_acc, train_loss = train_epoch(\n",
        "    model,\n",
        "    train_data_loader,    \n",
        "    loss_fn, \n",
        "    optimizer, \n",
        "    device, \n",
        "    scheduler, \n",
        "    len(df_train)\n",
        "  )\n",
        "\n",
        "  print(f'Train loss {train_loss} accuracy {train_acc}')\n",
        "\n",
        "  val_acc, val_loss = eval_model(\n",
        "    model,\n",
        "    val_data_loader,\n",
        "    loss_fn, \n",
        "    device, \n",
        "    len(df_val)\n",
        "  )\n",
        "\n",
        "  print(f'Val   loss {val_loss} accuracy {val_acc}')\n",
        "  print()\n",
        "\n",
        "  history['train_acc'].append(train_acc)\n",
        "  history['train_loss'].append(train_loss)\n",
        "  history['val_acc'].append(val_acc)\n",
        "  history['val_loss'].append(val_loss)\n",
        "\n",
        "  if val_acc > best_accuracy:\n",
        "    torch.save({\n",
        "        'model_state_dict': model.state_dict(),\n",
        "        'optimizer_state_dict': optimizer.state_dict(),\n",
        "        'epoch': epoch+1\n",
        "    }, '/content/drive/MyDrive/AmazonMLChallenge/abismodel/best_model_state.pt')\n",
        "    best_accuracy = val_acc"
      ],
      "execution_count": null,
      "outputs": [
        {
          "output_type": "stream",
          "text": [
            "Epoch 1/20\n",
            "----------\n",
            "Train loss 4.96865697593689 accuracy 0.41559999999999997\n",
            "Val   loss 3.7783376169738485 accuracy 0.5337000000000001\n",
            "\n",
            "Epoch 2/20\n",
            "----------\n",
            "Train loss 3.433847014904022 accuracy 0.5605\n"
          ],
          "name": "stdout"
        }
      ]
    },
    {
      "cell_type": "code",
      "metadata": {
        "id": "_Hi-WYHY6c2K"
      },
      "source": [
        "!mkdir -p /content/drive/MyDrive/AmazonMLChallenge/abismodel/"
      ],
      "execution_count": 27,
      "outputs": []
    },
    {
      "cell_type": "code",
      "metadata": {
        "id": "FS9Nzcrs55Nv"
      },
      "source": [
        "# torch.save({\n",
        "#     'model_state_dict': model.state_dict(),\n",
        "#     'optimizer_state_dict': optimizer.state_dict(),\n",
        "#     'epoch': 4\n",
        "# }, '/content/drive/MyDrive/AmazonMLChallenge/abismodel/best_model_state.pt')"
      ],
      "execution_count": 28,
      "outputs": []
    },
    {
      "cell_type": "code",
      "metadata": {
        "id": "yljuyPlCKzut"
      },
      "source": [
        "class AmazonTestDataset(Dataset):\n",
        "\n",
        "  def __init__(self, df, tokenizer, max_len):\n",
        "    self.df = df                   # Full df with columns TITLE, DESCRIPTION, BULLET_POINTS, BRAND, BROWSE_NODE_ID\n",
        "    self.tokenizer = tokenizer     # Tokenizer is the BERT_Tokenizer.\n",
        "    self.max_len = max_len         # max_length of each sequence.\n",
        "  \n",
        "  def __len__(self):\n",
        "    return len(self.df)            # Size of dataset\n",
        "  \n",
        "  def __getitem__(self, item):\n",
        "    bullet_pts_str = str(self.df.BULLET_POINTS[item])\n",
        "    bullet_pts_str = \". \".join(bullet_pts_str[1:-1].split(\",\")) if bullet_pts_str[0]=='['  else bullet_pts_str\n",
        "    title_str = str(self.df.TITLE[item])\n",
        "    input = preprocess(title_str) + \" [SEP] \" + preprocess(bullet_pts_str)    # returns the input at the row == item\n",
        "    input_brand = torch.as_tensor(brand_to_mapped.get(str(self.df.BRAND[item]), 36181), dtype=torch.int32)       # returns the brand input at the row == item\n",
        "    # 36181 - brand_to_mapped['nan']\n",
        "    \n",
        "    encoding = self.tokenizer.encode_plus(\n",
        "      input,\n",
        "      add_special_tokens=True,\n",
        "      max_length=self.max_len,\n",
        "      return_token_type_ids=False,\n",
        "      truncation='only_first',\n",
        "      padding='max_length',\n",
        "      return_attention_mask=True,\n",
        "      return_tensors='pt',\n",
        "    )\n",
        "\n",
        "    return {\n",
        "      'input_text': input,\n",
        "      'input_brand': input_brand,\n",
        "      'input_ids': encoding['input_ids'].flatten(),\n",
        "      'attention_mask': encoding['attention_mask'].flatten(),\n",
        "      #'targets': torch.tensor(target, dtype=torch.long)            # dictionary containing all the features is returned.\n",
        "    }"
      ],
      "execution_count": 29,
      "outputs": []
    },
    {
      "cell_type": "code",
      "metadata": {
        "colab": {
          "base_uri": "https://localhost:8080/"
        },
        "id": "RCaYuC1X76Xz",
        "outputId": "fb6f2ec7-3f09-4ed5-cac7-0a94b6222a36"
      },
      "source": [
        "print(brand_to_mapped['nan'])"
      ],
      "execution_count": 58,
      "outputs": [
        {
          "output_type": "stream",
          "text": [
            "36181\n"
          ],
          "name": "stdout"
        }
      ]
    },
    {
      "cell_type": "code",
      "metadata": {
        "id": "Sc9lSxDD3u-I"
      },
      "source": [
        "def create_test_data_loader(df, tokenizer, max_len, batch_size):\n",
        "  ds = AmazonTestDataset(\n",
        "    df=df,\n",
        "    tokenizer=tokenizer,\n",
        "    max_len=max_len\n",
        "  )                                  # Dataset would be created which can be used to create and return dataloader.\n",
        "\n",
        "  return DataLoader(\n",
        "    ds,\n",
        "    batch_size=batch_size,\n",
        "    #num_workers=4\n",
        "  )\n",
        "\n",
        "test_data_loader = create_test_data_loader(test_data, tokenizer, MAX_LEN, BATCH_SIZE)\n",
        "test_output = []\n",
        "with torch.no_grad():        # Back propogation is not required. Torch would perform faster. \n",
        "  for d in test_data_loader:\n",
        "    input_ids = d[\"input_ids\"].to(device)\n",
        "    attention_mask = d[\"attention_mask\"].to(device)\n",
        "    brand_id = d[\"input_brand\"].reshape((-1, 1)).to(device)\n",
        "    outputs = model(\n",
        "      brand_id=brand_id,\n",
        "      input_ids=input_ids,\n",
        "      attention_mask=attention_mask\n",
        "    )\n",
        "    max_prob, preds = torch.max(outputs, dim=1)\n",
        "    preds = preds.cpu()\n",
        "    for pred in preds:\n",
        "      test_output.append(mapped_to_og[pred])\n",
        "\n",
        "\n"
      ],
      "execution_count": 30,
      "outputs": []
    },
    {
      "cell_type": "code",
      "metadata": {
        "id": "KnwMffLxBTz6"
      },
      "source": [
        "test_data['BROWSE_NODE_ID'] = test_output\n",
        "test_out = test_data.drop(['TITLE', 'DESCRIPTION', 'BULLET_POINTS', 'BRAND'], axis=1)\n",
        "test_out.to_csv(\"/content/drive/MyDrive/AmazonMLChallenge/abismodel/sdd.csv\",index = False)"
      ],
      "execution_count": 31,
      "outputs": []
    }
  ]
}